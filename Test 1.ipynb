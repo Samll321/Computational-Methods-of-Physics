{
 "cells": [
  {
   "cell_type": "markdown",
   "metadata": {},
   "source": [
    "Hello I am testing something"
   ]
  },
  {
   "cell_type": "code",
   "execution_count": 2,
   "metadata": {},
   "outputs": [],
   "source": [
    "import numpy as np\n",
    "import scipy as sp\n",
    "import matplotlib.pyplot as plt\n",
    "import scipy.optimize as opt\n",
    "import cmath\n",
    "import scipy.interpolate as interp"
   ]
  },
  {
   "cell_type": "code",
   "execution_count": 21,
   "metadata": {},
   "outputs": [
    {
     "data": {
      "text/plain": [
       "2.23606797749979j"
      ]
     },
     "execution_count": 21,
     "metadata": {},
     "output_type": "execute_result"
    }
   ],
   "source": [
    "cmath.sqrt(-5)"
   ]
  },
  {
   "cell_type": "code",
   "execution_count": 31,
   "metadata": {},
   "outputs": [],
   "source": [
    "def f(x): \n",
    "    return x-(x**3)/(math.factorial(3)) + (x**5)/(math.factorial(5))"
   ]
  },
  {
   "cell_type": "code",
   "execution_count": 35,
   "metadata": {},
   "outputs": [
    {
     "data": {
      "text/plain": [
       "10.208333333333336"
      ]
     },
     "execution_count": 35,
     "metadata": {},
     "output_type": "execute_result"
    }
   ],
   "source": [
    "f(5)"
   ]
  },
  {
   "cell_type": "code",
   "execution_count": 19,
   "metadata": {},
   "outputs": [
    {
     "name": "stdout",
     "output_type": "stream",
     "text": [
      "-4.440892098500626e-16\n"
     ]
    }
   ],
   "source": [
    "def mathSumPerim(n):\n",
    "    \"\"\"Preforms a mathmatical summation for finite series 3(1/2)**(N-1) of length n\n",
    "    Input:\n",
    "        n: lenght of summation\n",
    "    Output:\n",
    "        x: value of sum at n\n",
    "    \"\"\"\n",
    "    sum = 0\n",
    "    range = np.arange(1,n+1,1)\n",
    "    for i in range:\n",
    "        sum = sum + 3*(1/2)**(i-1)\n",
    "    return sum\n",
    "\n",
    "def mathSumArea(n):\n",
    "    \"\"\"Preforms a mathmatical summation for finite series sqrt(3)(1/4)**(N-1) of length n\n",
    "    Input:\n",
    "        n: lenght of summation\n",
    "    Output:\n",
    "        x: value of sum at n\n",
    "    \"\"\"\n",
    "    sum = 0\n",
    "    range = np.arange(1,n+1,1)\n",
    "    for i in range:\n",
    "        sum = sum + np.sqrt(3)*(1/2)**(i-1)\n",
    "    return sum\n",
    "\n",
    "print(mathSumArea(52) - np.sqrt(3)*2)\n"
   ]
  },
  {
   "cell_type": "code",
   "execution_count": 33,
   "metadata": {},
   "outputs": [
    {
     "name": "stderr",
     "output_type": "stream",
     "text": [
      "C:\\Users\\ollie\\AppData\\Local\\Temp\\ipykernel_6536\\2784026545.py:3: RuntimeWarning: divide by zero encountered in divide\n",
      "  return 20-(g/(2*w**2))*(np.exp(w)-np.exp(-w)-2*np.sin(w))\n",
      "C:\\Users\\ollie\\AppData\\Local\\Temp\\ipykernel_6536\\2784026545.py:3: RuntimeWarning: invalid value encountered in multiply\n",
      "  return 20-(g/(2*w**2))*(np.exp(w)-np.exp(-w)-2*np.sin(w))\n"
     ]
    },
    {
     "data": {
      "text/plain": [
       "4.298751198883751"
      ]
     },
     "execution_count": 33,
     "metadata": {},
     "output_type": "execute_result"
    },
    {
     "data": {
      "image/png": "[encoded data removed]",
      "text/plain": [
       "<Figure size 640x480 with 1 Axes>"
      ]
     },
     "metadata": {},
     "output_type": "display_data"
    }
   ],
   "source": [
    "def f(w):\n",
    "    g = 9.8\n",
    "    return 20-(g/(2*w**2))*(np.exp(w)-np.exp(-w)-2*np.sin(w))\n",
    "\n",
    "\n",
    "xaxis = np.arange(0,10,0.01)\n",
    "plt.plot(xaxis, f(xaxis))\n",
    "opt.brentq(f,0.01,10,xtol=10**-12)"
   ]
  },
  {
   "cell_type": "code",
   "execution_count": 14,
   "metadata": {},
   "outputs": [
    {
     "data": {
      "text/plain": [
       "      converged: True\n",
       "           flag: converged\n",
       " function_calls: 41\n",
       "     iterations: 40\n",
       "           root: 1.999999991896848\n",
       "         method: secant"
      ]
     },
     "execution_count": 14,
     "metadata": {},
     "output_type": "execute_result"
    }
   ],
   "source": [
    "def g(x):\n",
    "    if x<2.0:\n",
    "        return -1*np.sqrt(np.abs(x-2))\n",
    "    else:\n",
    "        return np.sqrt(x-2)\n",
    "\n",
    "    \n",
    "opt.root_scalar(g,x0=0,x1=3, method='secant')\n"
   ]
  },
  {
   "cell_type": "code",
   "execution_count": 34,
   "metadata": {},
   "outputs": [
    {
     "data": {
      "text/plain": [
       "-0.9589242746631385"
      ]
     },
     "execution_count": 34,
     "metadata": {},
     "output_type": "execute_result"
    }
   ],
   "source": [
    "math.sin(5)"
   ]
  },
  {
   "cell_type": "code",
   "execution_count": 5,
   "metadata": {},
   "outputs": [
    {
     "ename": "NameError",
     "evalue": "name 'f' is not defined",
     "output_type": "error",
     "traceback": [
      "\u001b[1;31m---------------------------------------------------------------------------\u001b[0m",
      "\u001b[1;31mNameError\u001b[0m                                 Traceback (most recent call last)",
      "Cell \u001b[1;32mIn[5], line 2\u001b[0m\n\u001b[0;32m      1\u001b[0m x \u001b[38;5;241m=\u001b[39m np\u001b[38;5;241m.\u001b[39marange(\u001b[38;5;241m0\u001b[39m, np\u001b[38;5;241m.\u001b[39mpi\u001b[38;5;241m*\u001b[39m\u001b[38;5;241m2\u001b[39m, \u001b[38;5;241m0.05\u001b[39m)\n\u001b[1;32m----> 2\u001b[0m plt1 \u001b[38;5;241m=\u001b[39m plt\u001b[38;5;241m.\u001b[39mplot(x, f(x), label\u001b[38;5;241m=\u001b[39m\u001b[38;5;124m\"\u001b[39m\u001b[38;5;124mTaylor Series\u001b[39m\u001b[38;5;124m\"\u001b[39m)\n\u001b[0;32m      3\u001b[0m plt2 \u001b[38;5;241m=\u001b[39m plt\u001b[38;5;241m.\u001b[39mplot(x, np\u001b[38;5;241m.\u001b[39msin(x), label\u001b[38;5;241m=\u001b[39m\u001b[38;5;124m\"\u001b[39m\u001b[38;5;124mActual Sin\u001b[39m\u001b[38;5;124m\"\u001b[39m)\n\u001b[0;32m      4\u001b[0m plt\u001b[38;5;241m.\u001b[39mxlim(\u001b[38;5;241m-\u001b[39m\u001b[38;5;241m5\u001b[39m,\u001b[38;5;241m5\u001b[39m)\n",
      "\u001b[1;31mNameError\u001b[0m: name 'f' is not defined"
     ]
    }
   ],
   "source": [
    "x = np.arange(0, np.pi*2, 0.05)\n",
    "plt1 = plt.plot(x, f(x), label=\"Taylor Series\")\n",
    "plt2 = plt.plot(x, np.sin(x), label=\"Actual Sin\")\n",
    "plt.xlim(-5,5)\n",
    "plt.ylim(-1.2, 1.2)\n",
    "plt.xlabel(\"Phase\")\n",
    "plt.ylabel(\"Amplitude\")"
   ]
  },
  {
   "cell_type": "code",
   "execution_count": null,
   "metadata": {},
   "outputs": [],
   "source": []
  }
 ],
 "metadata": {
  "kernelspec": {
   "display_name": "base",
   "language": "python",
   "name": "python3"
  },
  "language_info": {
   "codemirror_mode": {
    "name": "ipython",
    "version": 3
   },
   "file_extension": ".py",
   "mimetype": "text/x-python",
   "name": "python",
   "nbconvert_exporter": "python",
   "pygments_lexer": "ipython3",
   "version": "3.12.7"
  }
 },
 "nbformat": 4,
 "nbformat_minor": 2
}
